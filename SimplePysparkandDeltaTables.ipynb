{
 "cells": [
  {
   "attachments": {},
   "cell_type": "markdown",
   "metadata": {},
   "source": [
    "<div>\n",
    "<table>\n",
    "<tr>\n",
    "<td><img src=\"https://spark.apache.org/docs/latest/api/python/_static/spark-logo-reverse.png\" width=\"200\"></td>\n",
    "<td><img src=\"https://delta.io/static/delta-lake-logo-a1c0d80d23c17de5f5d7224cb40f15dc.svg\" width=\"200\"></td>\n",
    "</tr>\n",
    "</table>\n",
    "</div>"
   ]
  },
  {
   "attachments": {},
   "cell_type": "markdown",
   "metadata": {},
   "source": [
    "# Pyspark with Delta Tables"
   ]
  },
  {
   "attachments": {},
   "cell_type": "markdown",
   "metadata": {},
   "source": [
    "- Setup Pyspark\n",
    "- Initialize SparkSession\n",
    "- Create Spark DataFrame\n",
    "- Export to CSV\n",
    "- Export to Delta Table"
   ]
  },
  {
   "attachments": {},
   "cell_type": "markdown",
   "metadata": {},
   "source": [
    "#### Setup Pyspark\n",
    "\n",
    "``` \n",
    "pip3 install pyspark\n",
    "\n",
    "pip3 install delta-spark\n",
    "\n",
    "pyspark --packages io.delta:delta-core_2.11:0.4.0\n",
    "```"
   ]
  },
  {
   "cell_type": "code",
   "execution_count": null,
   "metadata": {},
   "outputs": [],
   "source": [
    "!pip3 install pyspark\n",
    "\n",
    "!pip3 install delta-spark\n",
    "\n",
    "!pyspark --packages io.delta:delta-core_2.11:0.4.0"
   ]
  },
  {
   "attachments": {},
   "cell_type": "markdown",
   "metadata": {},
   "source": [
    "#### Initialize SparkSession\n",
    "\n",
    "Import Required Packages:\n",
    "- pyspark\n",
    "- delta\n",
    "\n",
    "```\n",
    "builder = (\n",
    "    pyspark.sql.SparkSession.builder.appName(\"PysparkDelta\")\n",
    "    .config(\"spark.sql.extensions\", \"io.delta.sql.DeltaSparkSessionExtension\")\n",
    "    .config(\n",
    "        \"spark.sql.catalog.spark_catalog\",\n",
    "        \"org.apache.spark.sql.delta.catalog.DeltaCatalog\",\n",
    "    )\n",
    ")\n",
    "```"
   ]
  },
  {
   "cell_type": "code",
   "execution_count": 11,
   "metadata": {},
   "outputs": [],
   "source": [
    "import pyspark\n",
    "from delta import *\n",
    "\n",
    "builder = (\n",
    "    pyspark.sql.SparkSession.builder.appName(\"PysparkDelta\")\n",
    "    .config(\"spark.sql.extensions\", \"io.delta.sql.DeltaSparkSessionExtension\")\n",
    "    .config(\n",
    "        \"spark.sql.catalog.spark_catalog\",\n",
    "        \"org.apache.spark.sql.delta.catalog.DeltaCatalog\",\n",
    "    )\n",
    ")\n",
    "\n",
    "spark = configure_spark_with_delta_pip(builder).getOrCreate()\n",
    "\n"
   ]
  },
  {
   "attachments": {},
   "cell_type": "markdown",
   "metadata": {},
   "source": [
    "#### Create Spark Dataframe"
   ]
  },
  {
   "cell_type": "code",
   "execution_count": 12,
   "metadata": {},
   "outputs": [],
   "source": [
    "data = [(\"James\",\"Educative\",\"Engg\",\"USA\"),\n",
    "    (\"Michael\",\"Google\",None,\"Asia\"),\n",
    "    (\"Robert\",None,\"Marketing\",\"Russia\"),\n",
    "    (\"Maria\",\"Netflix\",\"Finance\",\"Ukraine\"),\n",
    "    (None, None, None, None)\n",
    "  ]\n",
    "\n",
    "columns = [\"empname\",\"company\",\"department\",\"country\"]\n",
    "df = spark.createDataFrame(data = data, schema = columns)\n",
    "\n"
   ]
  },
  {
   "attachments": {},
   "cell_type": "markdown",
   "metadata": {},
   "source": [
    "#### Check Schema Definition of Dataframes"
   ]
  },
  {
   "cell_type": "code",
   "execution_count": 13,
   "metadata": {},
   "outputs": [
    {
     "name": "stdout",
     "output_type": "stream",
     "text": [
      "root\n",
      " |-- empname: string (nullable = true)\n",
      " |-- company: string (nullable = true)\n",
      " |-- department: string (nullable = true)\n",
      " |-- country: string (nullable = true)\n",
      "\n"
     ]
    }
   ],
   "source": [
    "df.printSchema()"
   ]
  },
  {
   "attachments": {},
   "cell_type": "markdown",
   "metadata": {},
   "source": [
    "#### Print Content of the Dataframes"
   ]
  },
  {
   "cell_type": "code",
   "execution_count": 14,
   "metadata": {},
   "outputs": [
    {
     "name": "stdout",
     "output_type": "stream",
     "text": [
      "+-------+---------+----------+-------+\n",
      "|empname|  company|department|country|\n",
      "+-------+---------+----------+-------+\n",
      "|  James|Educative|      Engg|    USA|\n",
      "|Michael|   Google|      null|   Asia|\n",
      "| Robert|     null| Marketing| Russia|\n",
      "|  Maria|  Netflix|   Finance|Ukraine|\n",
      "|   null|     null|      null|   null|\n",
      "+-------+---------+----------+-------+\n",
      "\n"
     ]
    }
   ],
   "source": [
    "df.show()"
   ]
  },
  {
   "attachments": {},
   "cell_type": "markdown",
   "metadata": {},
   "source": [
    "### Export as CSV"
   ]
  },
  {
   "cell_type": "code",
   "execution_count": 15,
   "metadata": {},
   "outputs": [],
   "source": [
    "csv_file_path = \"temp/data.csv\"\n",
    "df.write.option(\"header\", True).option(\"delimiter\",\",\").csv(csv_file_path)"
   ]
  },
  {
   "attachments": {},
   "cell_type": "markdown",
   "metadata": {},
   "source": [
    "### Export as Delta Table"
   ]
  },
  {
   "cell_type": "code",
   "execution_count": 16,
   "metadata": {},
   "outputs": [],
   "source": [
    "df.write.format(\"delta\").save(\"temp/tmp/students_delta\")"
   ]
  }
 ],
 "metadata": {
  "kernelspec": {
   "display_name": "Python 3",
   "language": "python",
   "name": "python3"
  },
  "language_info": {
   "codemirror_mode": {
    "name": "ipython",
    "version": 3
   },
   "file_extension": ".py",
   "mimetype": "text/x-python",
   "name": "python",
   "nbconvert_exporter": "python",
   "pygments_lexer": "ipython3",
   "version": "3.9.13"
  },
  "orig_nbformat": 4,
  "vscode": {
   "interpreter": {
    "hash": "b0fa6594d8f4cbf19f97940f81e996739fb7646882a419484c72d19e05852a7e"
   }
  }
 },
 "nbformat": 4,
 "nbformat_minor": 2
}
